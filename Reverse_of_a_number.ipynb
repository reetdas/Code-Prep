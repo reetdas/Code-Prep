{
  "nbformat": 4,
  "nbformat_minor": 0,
  "metadata": {
    "colab": {
      "provenance": [],
      "authorship_tag": "ABX9TyMebyR37+DW/8YajymbBQdH",
      "include_colab_link": true
    },
    "kernelspec": {
      "name": "python3",
      "display_name": "Python 3"
    },
    "language_info": {
      "name": "python"
    }
  },
  "cells": [
    {
      "cell_type": "markdown",
      "metadata": {
        "id": "view-in-github",
        "colab_type": "text"
      },
      "source": [
        "<a href=\"https://colab.research.google.com/github/reetdas/Code-Prep/blob/main/Reverse_of_a_number.ipynb\" target=\"_parent\"><img src=\"https://colab.research.google.com/assets/colab-badge.svg\" alt=\"Open In Colab\"/></a>"
      ]
    },
    {
      "cell_type": "markdown",
      "source": [
        "# Reverse of a number"
      ],
      "metadata": {
        "id": "SQ8CST2OCbWs"
      }
    },
    {
      "cell_type": "code",
      "execution_count": 2,
      "metadata": {
        "colab": {
          "base_uri": "https://localhost:8080/"
        },
        "id": "jTXwZk95CW1Q",
        "outputId": "df1adcb6-703e-4d1c-e02d-309d008f2675"
      },
      "outputs": [
        {
          "output_type": "stream",
          "name": "stdout",
          "text": [
            "Enter your number: 12345678\n",
            "Reverse of a number is:  87654321\n"
          ]
        }
      ],
      "source": [
        "number = int(input(\"Enter your number: \"))\n",
        "rev = 0\n",
        "while number > 0:\n",
        "  digit = number%10\n",
        "  rev = rev*10 + digit\n",
        "  number = number//10\n",
        "print(\"Reverse of a number is: \",rev)"
      ]
    },
    {
      "cell_type": "code",
      "source": [
        "number = int(input(\"Enter your number: \"))\n",
        "n = str(number)\n",
        "print(n[::-1])"
      ],
      "metadata": {
        "colab": {
          "base_uri": "https://localhost:8080/"
        },
        "id": "rz-yDt68EwM0",
        "outputId": "b1f7713c-2c9a-4dcf-9f20-45a58fcbc885"
      },
      "execution_count": 3,
      "outputs": [
        {
          "output_type": "stream",
          "name": "stdout",
          "text": [
            "Enter your number: 123456789\n",
            "987654321\n"
          ]
        }
      ]
    }
  ]
}