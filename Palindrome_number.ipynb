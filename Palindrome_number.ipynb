{
  "nbformat": 4,
  "nbformat_minor": 0,
  "metadata": {
    "colab": {
      "provenance": [],
      "authorship_tag": "ABX9TyMV4NzIlpYUKshyaTOsa68h",
      "include_colab_link": true
    },
    "kernelspec": {
      "name": "python3",
      "display_name": "Python 3"
    },
    "language_info": {
      "name": "python"
    }
  },
  "cells": [
    {
      "cell_type": "markdown",
      "metadata": {
        "id": "view-in-github",
        "colab_type": "text"
      },
      "source": [
        "<a href=\"https://colab.research.google.com/github/reetdas/Code-Prep/blob/main/Palindrome_number.ipynb\" target=\"_parent\"><img src=\"https://colab.research.google.com/assets/colab-badge.svg\" alt=\"Open In Colab\"/></a>"
      ]
    },
    {
      "cell_type": "markdown",
      "source": [
        "# Palindrome number"
      ],
      "metadata": {
        "id": "M3ziSAZxFVnY"
      }
    },
    {
      "cell_type": "code",
      "execution_count": 10,
      "metadata": {
        "colab": {
          "base_uri": "https://localhost:8080/"
        },
        "id": "N7lE9DNqFRhf",
        "outputId": "40be0e98-0092-4777-8dc2-71aac1d94f60"
      },
      "outputs": [
        {
          "output_type": "stream",
          "name": "stdout",
          "text": [
            "Enter your number: 121\n",
            "Palindrome\n"
          ]
        }
      ],
      "source": [
        "number = int(input(\"Enter your number: \"))\n",
        "temp = number\n",
        "rev = 0\n",
        "while temp > 0:\n",
        "  digit = temp%10\n",
        "  rev = rev*10 + digit\n",
        "  temp = temp//10\n",
        "if number == rev:\n",
        "  print(\"Palindrome\")\n",
        "else:\n",
        "  print(\"Not palindrome\")"
      ]
    },
    {
      "cell_type": "code",
      "source": [
        "number = int(input(\"Enter your number: \"))\n",
        "n = str(number)\n",
        "if n == n[::-1]:\n",
        "  print(\"Palindrome\")\n",
        "else:\n",
        "  print(\"Not palindrome\")"
      ],
      "metadata": {
        "colab": {
          "base_uri": "https://localhost:8080/"
        },
        "id": "eeae9O0XGISL",
        "outputId": "365b755c-039d-4669-8c2a-f3a23aee50d6"
      },
      "execution_count": 11,
      "outputs": [
        {
          "output_type": "stream",
          "name": "stdout",
          "text": [
            "Enter your number: 121\n",
            "Palindrome\n"
          ]
        }
      ]
    }
  ]
}