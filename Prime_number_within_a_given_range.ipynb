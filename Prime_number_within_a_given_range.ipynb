{
  "nbformat": 4,
  "nbformat_minor": 0,
  "metadata": {
    "colab": {
      "provenance": [],
      "authorship_tag": "ABX9TyPKdK8n9x+G1imrW9GF8glx",
      "include_colab_link": true
    },
    "kernelspec": {
      "name": "python3",
      "display_name": "Python 3"
    },
    "language_info": {
      "name": "python"
    }
  },
  "cells": [
    {
      "cell_type": "markdown",
      "metadata": {
        "id": "view-in-github",
        "colab_type": "text"
      },
      "source": [
        "<a href=\"https://colab.research.google.com/github/reetdas/Code-Prep/blob/main/Prime_number_within_a_given_range.ipynb\" target=\"_parent\"><img src=\"https://colab.research.google.com/assets/colab-badge.svg\" alt=\"Open In Colab\"/></a>"
      ]
    },
    {
      "cell_type": "markdown",
      "source": [
        "# Prime number within a given range"
      ],
      "metadata": {
        "id": "4H-mT-qL5ETf"
      }
    },
    {
      "cell_type": "code",
      "execution_count": 5,
      "metadata": {
        "colab": {
          "base_uri": "https://localhost:8080/"
        },
        "id": "oSw181i45Aqx",
        "outputId": "7402959d-77e3-49d9-e8ab-a625e17b50c2"
      },
      "outputs": [
        {
          "output_type": "stream",
          "name": "stdout",
          "text": [
            "Enter your first number: 1\n",
            "Enter your second number: 10\n",
            "2\n",
            "3\n",
            "5\n",
            "7\n"
          ]
        }
      ],
      "source": [
        "def prime(number):\n",
        "  ctr = 0\n",
        "  for i in range(1,number+1):\n",
        "    if number%i==0:\n",
        "      ctr = ctr + 1\n",
        "  if ctr == 2:\n",
        "    return 1\n",
        "  else:\n",
        "    return 0\n",
        "\n",
        "number1 = int(input(\"Enter your first number: \"))\n",
        "number2 = int(input(\"Enter your second number: \"))\n",
        "\n",
        "for i in range(number1,number2+1):\n",
        "  if prime(i)==1:\n",
        "    print(i)\n"
      ]
    }
  ]
}