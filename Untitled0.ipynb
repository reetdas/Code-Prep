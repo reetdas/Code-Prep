{
  "nbformat": 4,
  "nbformat_minor": 0,
  "metadata": {
    "colab": {
      "provenance": [],
      "authorship_tag": "ABX9TyOCUnDAP3k+z5SSV1II2Z6F",
      "include_colab_link": true
    },
    "kernelspec": {
      "name": "python3",
      "display_name": "Python 3"
    },
    "language_info": {
      "name": "python"
    }
  },
  "cells": [
    {
      "cell_type": "markdown",
      "metadata": {
        "id": "view-in-github",
        "colab_type": "text"
      },
      "source": [
        "<a href=\"https://colab.research.google.com/github/reetdas/Code-Prep/blob/main/Untitled0.ipynb\" target=\"_parent\"><img src=\"https://colab.research.google.com/assets/colab-badge.svg\" alt=\"Open In Colab\"/></a>"
      ]
    },
    {
      "cell_type": "markdown",
      "source": [
        "# Sum of digits of a number"
      ],
      "metadata": {
        "id": "SJpsst5J-0Se"
      }
    },
    {
      "cell_type": "code",
      "execution_count": 1,
      "metadata": {
        "colab": {
          "base_uri": "https://localhost:8080/"
        },
        "id": "9JcoEbFJ-rhj",
        "outputId": "06fe5572-90ff-49a3-bb48-06315de473bb"
      },
      "outputs": [
        {
          "output_type": "stream",
          "name": "stdout",
          "text": [
            "Enter your number: 123\n",
            "Sum of digits is:  6\n"
          ]
        }
      ],
      "source": [
        "Number = int(input(\"Enter your number: \"))\n",
        "s = 0\n",
        "while Number > 0:\n",
        "  digit = Number%10\n",
        "  s = s + digit\n",
        "  Number = Number//10\n",
        "print(\"Sum of digits is: \",s)\n",
        "\n"
      ]
    },
    {
      "cell_type": "code",
      "source": [],
      "metadata": {
        "id": "_lIeJVtbAQrj"
      },
      "execution_count": null,
      "outputs": []
    }
  ]
}