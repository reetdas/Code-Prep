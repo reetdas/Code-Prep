{
  "nbformat": 4,
  "nbformat_minor": 0,
  "metadata": {
    "colab": {
      "provenance": [],
      "authorship_tag": "ABX9TyNugDTir760Ds+WOrPz366U",
      "include_colab_link": true
    },
    "kernelspec": {
      "name": "python3",
      "display_name": "Python 3"
    },
    "language_info": {
      "name": "python"
    }
  },
  "cells": [
    {
      "cell_type": "markdown",
      "metadata": {
        "id": "view-in-github",
        "colab_type": "text"
      },
      "source": [
        "<a href=\"https://colab.research.google.com/github/reetdas/Code-Prep/blob/main/Greatest_of_two_numbers.ipynb\" target=\"_parent\"><img src=\"https://colab.research.google.com/assets/colab-badge.svg\" alt=\"Open In Colab\"/></a>"
      ]
    },
    {
      "cell_type": "markdown",
      "source": [
        "# Greatest of two numbers"
      ],
      "metadata": {
        "id": "_ctrTuKOk0T9"
      }
    },
    {
      "cell_type": "code",
      "execution_count": 2,
      "metadata": {
        "colab": {
          "base_uri": "https://localhost:8080/"
        },
        "id": "sVOm1ABAks61",
        "outputId": "02307e5c-9cff-4f22-ae20-ebfd2496b7ee"
      },
      "outputs": [
        {
          "output_type": "stream",
          "name": "stdout",
          "text": [
            "Enter your first number: 2\n",
            "Enter your second number: 2\n",
            "Both are Equal\n"
          ]
        }
      ],
      "source": [
        "Number1 = int(input(\"Enter your first number: \"))\n",
        "Number2 = int(input(\"Enter your second number: \"))\n",
        "if Number1 > Number2:\n",
        "  print(\"Number 1 is greater\")\n",
        "elif Number2 > Number1:\n",
        "  print(\"Number 2 is greater\")\n",
        "else:\n",
        "  print(\"Both are Equal\")"
      ]
    },
    {
      "cell_type": "code",
      "source": [],
      "metadata": {
        "id": "U0_kOMjWoSN9"
      },
      "execution_count": null,
      "outputs": []
    }
  ]
}