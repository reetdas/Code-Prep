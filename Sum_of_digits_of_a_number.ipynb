{
  "nbformat": 4,
  "nbformat_minor": 0,
  "metadata": {
    "colab": {
      "provenance": [],
      "authorship_tag": "ABX9TyOWhAtjsXvfB3UHkOY6zCgU",
      "include_colab_link": true
    },
    "kernelspec": {
      "name": "python3",
      "display_name": "Python 3"
    },
    "language_info": {
      "name": "python"
    }
  },
  "cells": [
    {
      "cell_type": "markdown",
      "metadata": {
        "id": "view-in-github",
        "colab_type": "text"
      },
      "source": [
        "<a href=\"https://colab.research.google.com/github/reetdas/Code-Prep/blob/main/Sum_of_digits_of_a_number.ipynb\" target=\"_parent\"><img src=\"https://colab.research.google.com/assets/colab-badge.svg\" alt=\"Open In Colab\"/></a>"
      ]
    },
    {
      "cell_type": "markdown",
      "source": [
        "# Sum of digits of a number"
      ],
      "metadata": {
        "id": "SJpsst5J-0Se"
      }
    },
    {
      "cell_type": "code",
      "execution_count": 1,
      "metadata": {
        "colab": {
          "base_uri": "https://localhost:8080/"
        },
        "id": "9JcoEbFJ-rhj",
        "outputId": "06fe5572-90ff-49a3-bb48-06315de473bb"
      },
      "outputs": [
        {
          "output_type": "stream",
          "name": "stdout",
          "text": [
            "Enter your number: 123\n",
            "Sum of digits is:  6\n"
          ]
        }
      ],
      "source": [
        "Number = int(input(\"Enter your number: \"))\n",
        "s = 0\n",
        "while Number > 0:\n",
        "  digit = Number%10\n",
        "  s = s + digit\n",
        "  Number = Number//10\n",
        "print(\"Sum of digits is: \",s)\n",
        "\n"
      ]
    },
    {
      "cell_type": "code",
      "source": [
        "Number = int(input(\"Enter your number: \"))\n",
        "s = 0\n",
        "n = str(Number)\n",
        "for i in n:\n",
        "  s = s + int(i)\n",
        "print(\"Sum of digits is: \",s)"
      ],
      "metadata": {
        "colab": {
          "base_uri": "https://localhost:8080/"
        },
        "id": "_lIeJVtbAQrj",
        "outputId": "8b8f5207-2eaa-44fa-9c80-9d949ea54e8c"
      },
      "execution_count": 2,
      "outputs": [
        {
          "output_type": "stream",
          "name": "stdout",
          "text": [
            "Enter your number: 123\n",
            "Sum of digits is:  6\n"
          ]
        }
      ]
    }
  ]
}