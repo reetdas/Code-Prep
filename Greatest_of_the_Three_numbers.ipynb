{
  "nbformat": 4,
  "nbformat_minor": 0,
  "metadata": {
    "colab": {
      "provenance": [],
      "authorship_tag": "ABX9TyOuPCPcPblN1+2Rf/uFiV7F",
      "include_colab_link": true
    },
    "kernelspec": {
      "name": "python3",
      "display_name": "Python 3"
    },
    "language_info": {
      "name": "python"
    }
  },
  "cells": [
    {
      "cell_type": "markdown",
      "metadata": {
        "id": "view-in-github",
        "colab_type": "text"
      },
      "source": [
        "<a href=\"https://colab.research.google.com/github/reetdas/Code-Prep/blob/main/Greatest_of_the_Three_numbers.ipynb\" target=\"_parent\"><img src=\"https://colab.research.google.com/assets/colab-badge.svg\" alt=\"Open In Colab\"/></a>"
      ]
    },
    {
      "cell_type": "markdown",
      "source": [
        "# Greatest of the Three numbers"
      ],
      "metadata": {
        "id": "PD77Ltt8pHls"
      }
    },
    {
      "cell_type": "code",
      "execution_count": 5,
      "metadata": {
        "colab": {
          "base_uri": "https://localhost:8080/"
        },
        "id": "53Xu0ZgwoiVN",
        "outputId": "4cf0a471-faba-4e7b-e099-db9c5dd0ce55"
      },
      "outputs": [
        {
          "output_type": "stream",
          "name": "stdout",
          "text": [
            "Enter your first number: 5\n",
            "Enter your second number: 6\n",
            "Enter your third number: 6\n",
            "Number 2 is the greatest\n"
          ]
        }
      ],
      "source": [
        "Number1 = int(input(\"Enter your first number: \"))\n",
        "Number2 = int(input(\"Enter your second number: \"))\n",
        "Number3 = int(input(\"Enter your third number: \"))\n",
        "if Number1 >= Number2 and Number1 >= Number3:\n",
        "  print(\"Number 1 is the greatest\")\n",
        "elif Number2 >= Number1 and Number2 >= Number3:\n",
        "  print(\"Number 2 is the greatest\")\n",
        "else:\n",
        "  print(\"Number 3 is the greatest\")"
      ]
    }
  ]
}