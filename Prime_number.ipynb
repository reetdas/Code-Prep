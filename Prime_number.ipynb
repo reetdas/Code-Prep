{
  "nbformat": 4,
  "nbformat_minor": 0,
  "metadata": {
    "colab": {
      "provenance": [],
      "authorship_tag": "ABX9TyM6YFc9Nm5X8fbkkUNtvfMG",
      "include_colab_link": true
    },
    "kernelspec": {
      "name": "python3",
      "display_name": "Python 3"
    },
    "language_info": {
      "name": "python"
    }
  },
  "cells": [
    {
      "cell_type": "markdown",
      "metadata": {
        "id": "view-in-github",
        "colab_type": "text"
      },
      "source": [
        "<a href=\"https://colab.research.google.com/github/reetdas/Code-Prep/blob/main/Prime_number.ipynb\" target=\"_parent\"><img src=\"https://colab.research.google.com/assets/colab-badge.svg\" alt=\"Open In Colab\"/></a>"
      ]
    },
    {
      "cell_type": "markdown",
      "source": [
        "# Prime number"
      ],
      "metadata": {
        "id": "fkiYM9Nd2EXN"
      }
    },
    {
      "cell_type": "code",
      "execution_count": 10,
      "metadata": {
        "colab": {
          "base_uri": "https://localhost:8080/"
        },
        "id": "BexYjY0q2CSz",
        "outputId": "9d897e68-e980-4eab-c920-f6798bf95c13"
      },
      "outputs": [
        {
          "output_type": "stream",
          "name": "stdout",
          "text": [
            "Enter your number: 1007\n",
            "The number is not prime\n"
          ]
        }
      ],
      "source": [
        "Number = int(input(\"Enter your number: \"))\n",
        "ctr = 0\n",
        "for i in range(1,Number+1):\n",
        "  if Number%i == 0:\n",
        "    ctr = ctr + 1\n",
        "if ctr == 2:\n",
        "  print(\"The number is prime\")\n",
        "elif ctr == 1:\n",
        "  print(\"1 is neither prime nor composite\")\n",
        "else:\n",
        "  print(\"The number is not prime\")"
      ]
    },
    {
      "cell_type": "code",
      "source": [],
      "metadata": {
        "id": "8ZxE-sBK4Da1"
      },
      "execution_count": null,
      "outputs": []
    }
  ]
}