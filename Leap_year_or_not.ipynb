{
  "nbformat": 4,
  "nbformat_minor": 0,
  "metadata": {
    "colab": {
      "provenance": [],
      "authorship_tag": "ABX9TyP8b4uCGmcFQ6QqojiwoHWX",
      "include_colab_link": true
    },
    "kernelspec": {
      "name": "python3",
      "display_name": "Python 3"
    },
    "language_info": {
      "name": "python"
    }
  },
  "cells": [
    {
      "cell_type": "markdown",
      "metadata": {
        "id": "view-in-github",
        "colab_type": "text"
      },
      "source": [
        "<a href=\"https://colab.research.google.com/github/reetdas/Code-Prep/blob/main/Leap_year_or_not.ipynb\" target=\"_parent\"><img src=\"https://colab.research.google.com/assets/colab-badge.svg\" alt=\"Open In Colab\"/></a>"
      ]
    },
    {
      "cell_type": "markdown",
      "source": [
        "# Leap year or not"
      ],
      "metadata": {
        "id": "WDg0dWuh0qXF"
      }
    },
    {
      "cell_type": "code",
      "execution_count": 3,
      "metadata": {
        "colab": {
          "base_uri": "https://localhost:8080/"
        },
        "id": "EfM9x-nk0P5I",
        "outputId": "9829b13d-2ed3-4e0a-b268-b9f86b201077"
      },
      "outputs": [
        {
          "output_type": "stream",
          "name": "stdout",
          "text": [
            "Enter you preferred year: 1000\n",
            "Not a leap year\n"
          ]
        }
      ],
      "source": [
        "Year = int(input(\"Enter you preferred year: \"))\n",
        "if (Year%400==0) or (Year%4==0 and Year%100!=0):\n",
        "  print(\"Leap year\")\n",
        "else:\n",
        "  print(\"Not a leap year\")"
      ]
    }
  ]
}