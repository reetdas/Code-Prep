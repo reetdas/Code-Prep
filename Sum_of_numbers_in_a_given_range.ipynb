{
  "nbformat": 4,
  "nbformat_minor": 0,
  "metadata": {
    "colab": {
      "provenance": [],
      "authorship_tag": "ABX9TyOrOFWuoeBda1RmgUatkxM7",
      "include_colab_link": true
    },
    "kernelspec": {
      "name": "python3",
      "display_name": "Python 3"
    },
    "language_info": {
      "name": "python"
    }
  },
  "cells": [
    {
      "cell_type": "markdown",
      "metadata": {
        "id": "view-in-github",
        "colab_type": "text"
      },
      "source": [
        "<a href=\"https://colab.research.google.com/github/reetdas/Code-Prep/blob/main/Sum_of_numbers_in_a_given_range.ipynb\" target=\"_parent\"><img src=\"https://colab.research.google.com/assets/colab-badge.svg\" alt=\"Open In Colab\"/></a>"
      ]
    },
    {
      "cell_type": "markdown",
      "source": [
        "# Sum of numbers in a given range"
      ],
      "metadata": {
        "id": "pLukQTF0jT36"
      }
    },
    {
      "cell_type": "code",
      "execution_count": 4,
      "metadata": {
        "colab": {
          "base_uri": "https://localhost:8080/"
        },
        "id": "FCX2I8tPjERI",
        "outputId": "a7561e33-4873-45ae-fb8f-654fe6c465e0"
      },
      "outputs": [
        {
          "output_type": "stream",
          "name": "stdout",
          "text": [
            "Enter your first NUmber: 1\n",
            "Enter your second NUmber: 2\n",
            "3\n"
          ]
        }
      ],
      "source": [
        "Number1 = int(input(\"Enter your first NUmber: \"))\n",
        "Number2 = int(input(\"Enter your second NUmber: \"))\n",
        "\n",
        "s = 0\n",
        "for i in range(Number1, Number2+1):\n",
        "  s = s + i\n",
        "print(s)"
      ]
    }
  ]
}