{
  "nbformat": 4,
  "nbformat_minor": 0,
  "metadata": {
    "colab": {
      "provenance": [],
      "authorship_tag": "ABX9TyM3xuIG6gSQIZBmdn5n1Wsp",
      "include_colab_link": true
    },
    "kernelspec": {
      "name": "python3",
      "display_name": "Python 3"
    },
    "language_info": {
      "name": "python"
    }
  },
  "cells": [
    {
      "cell_type": "markdown",
      "metadata": {
        "id": "view-in-github",
        "colab_type": "text"
      },
      "source": [
        "<a href=\"https://colab.research.google.com/github/reetdas/Code-Prep/blob/main/Armstrong_number.ipynb\" target=\"_parent\"><img src=\"https://colab.research.google.com/assets/colab-badge.svg\" alt=\"Open In Colab\"/></a>"
      ]
    },
    {
      "cell_type": "markdown",
      "source": [
        "# Armstrong number"
      ],
      "metadata": {
        "id": "oPTihwaVHWWf"
      }
    },
    {
      "cell_type": "code",
      "execution_count": 2,
      "metadata": {
        "colab": {
          "base_uri": "https://localhost:8080/"
        },
        "id": "ABktUFZsHUCQ",
        "outputId": "61a5d766-608d-4ac0-ee2a-524df83887c8"
      },
      "outputs": [
        {
          "output_type": "stream",
          "name": "stdout",
          "text": [
            "Enter your number: 153\n",
            "Armstrong number \n"
          ]
        }
      ],
      "source": [
        "number = int(input(\"Enter your number: \"))\n",
        "n = str(number)\n",
        "s = 0\n",
        "for i in n:\n",
        "  s = s + int(i)**3\n",
        "if s == number:\n",
        "  print(\"Armstrong number \")\n",
        "else:\n",
        "  print(\"Not Armstrong number \")"
      ]
    }
  ]
}