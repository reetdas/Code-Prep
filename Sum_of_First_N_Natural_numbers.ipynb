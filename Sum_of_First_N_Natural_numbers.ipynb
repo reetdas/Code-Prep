{
  "nbformat": 4,
  "nbformat_minor": 0,
  "metadata": {
    "colab": {
      "provenance": [],
      "authorship_tag": "ABX9TyOWx62SU7SeuxwesrXKWsTv",
      "include_colab_link": true
    },
    "kernelspec": {
      "name": "python3",
      "display_name": "Python 3"
    },
    "language_info": {
      "name": "python"
    }
  },
  "cells": [
    {
      "cell_type": "markdown",
      "metadata": {
        "id": "view-in-github",
        "colab_type": "text"
      },
      "source": [
        "<a href=\"https://colab.research.google.com/github/reetdas/Code-Prep/blob/main/Sum_of_First_N_Natural_numbers.ipynb\" target=\"_parent\"><img src=\"https://colab.research.google.com/assets/colab-badge.svg\" alt=\"Open In Colab\"/></a>"
      ]
    },
    {
      "cell_type": "markdown",
      "source": [
        "#Sum of First N Natural numbers"
      ],
      "metadata": {
        "id": "4ubdUbLShLhq"
      }
    },
    {
      "cell_type": "code",
      "execution_count": 1,
      "metadata": {
        "colab": {
          "base_uri": "https://localhost:8080/"
        },
        "id": "i4UoknPdhGMP",
        "outputId": "7b6e1725-dc69-4d3a-d99b-a57e4eb808a9"
      },
      "outputs": [
        {
          "output_type": "stream",
          "name": "stdout",
          "text": [
            "Enter your number7\n",
            "28\n"
          ]
        }
      ],
      "source": [
        "number = int(input(\"Enter your number: \"))\n",
        "s = 0\n",
        "for i in range(1,number+1):\n",
        "  s = s + i\n",
        "print(s)"
      ]
    }
  ]
}