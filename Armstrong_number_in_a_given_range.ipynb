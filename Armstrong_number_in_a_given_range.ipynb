{
  "nbformat": 4,
  "nbformat_minor": 0,
  "metadata": {
    "colab": {
      "provenance": [],
      "authorship_tag": "ABX9TyOv/s3UDaYL5fomr5Gym4sU",
      "include_colab_link": true
    },
    "kernelspec": {
      "name": "python3",
      "display_name": "Python 3"
    },
    "language_info": {
      "name": "python"
    }
  },
  "cells": [
    {
      "cell_type": "markdown",
      "metadata": {
        "id": "view-in-github",
        "colab_type": "text"
      },
      "source": [
        "<a href=\"https://colab.research.google.com/github/reetdas/Code-Prep/blob/main/Armstrong_number_in_a_given_range.ipynb\" target=\"_parent\"><img src=\"https://colab.research.google.com/assets/colab-badge.svg\" alt=\"Open In Colab\"/></a>"
      ]
    },
    {
      "cell_type": "markdown",
      "source": [
        "# Armstrong number in a given range"
      ],
      "metadata": {
        "id": "_PEUBkxzmiqm"
      }
    },
    {
      "cell_type": "code",
      "execution_count": 1,
      "metadata": {
        "colab": {
          "base_uri": "https://localhost:8080/"
        },
        "id": "890EGatAmho2",
        "outputId": "6b17ea8c-5e6f-462f-f3dc-7244b2ca6570"
      },
      "outputs": [
        {
          "output_type": "stream",
          "name": "stdout",
          "text": [
            "Enter your 1st number: 1\n",
            "Enter your 2nd number: 200\n",
            "1\n",
            "153\n"
          ]
        }
      ],
      "source": [
        "def armstrong(number):\n",
        "  n = str(number)\n",
        "  s = 0\n",
        "  for i in n:\n",
        "    s = s + int(i)**3\n",
        "  if s == number:\n",
        "    return 1\n",
        "  else:\n",
        "    return 0\n",
        "\n",
        "Number1 = int(input(\"Enter your 1st number: \"))\n",
        "Number2 = int(input(\"Enter your 2nd number: \"))\n",
        "for i in range(Number1, Number2+1):\n",
        "  if armstrong(i) == 1:\n",
        "    print(i)\n"
      ]
    }
  ]
}